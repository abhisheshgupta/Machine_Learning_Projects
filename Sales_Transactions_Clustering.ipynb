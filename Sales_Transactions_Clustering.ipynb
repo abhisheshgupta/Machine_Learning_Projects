{
  "nbformat": 4,
  "nbformat_minor": 0,
  "metadata": {
    "colab": {
      "provenance": [],
      "collapsed_sections": [],
      "authorship_tag": "ABX9TyMUr/dmIZ5zvi+zrDK74Hn/",
      "include_colab_link": true
    },
    "kernelspec": {
      "name": "python3",
      "display_name": "Python 3"
    },
    "language_info": {
      "name": "python"
    }
  },
  "cells": [
    {
      "cell_type": "markdown",
      "metadata": {
        "id": "view-in-github",
        "colab_type": "text"
      },
      "source": [
        "<a href=\"https://colab.research.google.com/github/abhisheshgupta/abhisheshgupta/blob/main/Sales_Transactions_Clustering.ipynb\" target=\"_parent\"><img src=\"https://colab.research.google.com/assets/colab-badge.svg\" alt=\"Open In Colab\"/></a>"
      ]
    },
    {
      "cell_type": "code",
      "execution_count": null,
      "metadata": {
        "id": "g4EqUAqQAyCu"
      },
      "outputs": [],
      "source": [
        "#import required libraries\n",
        "import pandas as pd\n",
        "import numpy as np\n",
        "import matplotlib.pyplot as plt\n",
        "import seaborn as sns\n",
        "%matplotlib inline"
      ]
    },
    {
      "cell_type": "markdown",
      "source": [
        "####get the data"
      ],
      "metadata": {
        "id": "TkoNo9-1GIu0"
      }
    },
    {
      "cell_type": "code",
      "source": [
        "df = pd.read_csv('/content/Sales_Transactions_Dataset_Weekly.csv')"
      ],
      "metadata": {
        "id": "n5aCy5KWBOxV"
      },
      "execution_count": null,
      "outputs": []
    },
    {
      "cell_type": "code",
      "source": [
        "df.head()"
      ],
      "metadata": {
        "colab": {
          "base_uri": "https://localhost:8080/",
          "height": 317
        },
        "id": "pM96lutLBudj",
        "outputId": "85414651-a3bc-4fd7-a30e-c4cd38819f72"
      },
      "execution_count": null,
      "outputs": [
        {
          "output_type": "execute_result",
          "data": {
            "text/plain": [
              "  Product_Code  W0  W1  W2  W3  W4  W5  W6  W7  W8  ...  Normalized 42  \\\n",
              "0           P1  11  12  10   8  13  12  14  21   6  ...           0.06   \n",
              "1           P2   7   6   3   2   7   1   6   3   3  ...           0.20   \n",
              "2           P3   7  11   8   9  10   8   7  13  12  ...           0.27   \n",
              "3           P4  12   8  13   5   9   6   9  13  13  ...           0.41   \n",
              "4           P5   8   5  13  11   6   7   9  14   9  ...           0.27   \n",
              "\n",
              "   Normalized 43  Normalized 44  Normalized 45  Normalized 46  Normalized 47  \\\n",
              "0           0.22           0.28           0.39           0.50           0.00   \n",
              "1           0.40           0.50           0.10           0.10           0.40   \n",
              "2           1.00           0.18           0.18           0.36           0.45   \n",
              "3           0.47           0.06           0.12           0.24           0.35   \n",
              "4           0.53           0.27           0.60           0.20           0.20   \n",
              "\n",
              "   Normalized 48  Normalized 49  Normalized 50  Normalized 51  \n",
              "0           0.22           0.17           0.11           0.39  \n",
              "1           0.50           0.10           0.60           0.00  \n",
              "2           1.00           0.45           0.45           0.36  \n",
              "3           0.71           0.35           0.29           0.35  \n",
              "4           0.13           0.53           0.33           0.40  \n",
              "\n",
              "[5 rows x 107 columns]"
            ],
            "text/html": [
              "\n",
              "  <div id=\"df-486b93a3-9972-49c4-91dc-bc062a0a4f61\">\n",
              "    <div class=\"colab-df-container\">\n",
              "      <div>\n",
              "<style scoped>\n",
              "    .dataframe tbody tr th:only-of-type {\n",
              "        vertical-align: middle;\n",
              "    }\n",
              "\n",
              "    .dataframe tbody tr th {\n",
              "        vertical-align: top;\n",
              "    }\n",
              "\n",
              "    .dataframe thead th {\n",
              "        text-align: right;\n",
              "    }\n",
              "</style>\n",
              "<table border=\"1\" class=\"dataframe\">\n",
              "  <thead>\n",
              "    <tr style=\"text-align: right;\">\n",
              "      <th></th>\n",
              "      <th>Product_Code</th>\n",
              "      <th>W0</th>\n",
              "      <th>W1</th>\n",
              "      <th>W2</th>\n",
              "      <th>W3</th>\n",
              "      <th>W4</th>\n",
              "      <th>W5</th>\n",
              "      <th>W6</th>\n",
              "      <th>W7</th>\n",
              "      <th>W8</th>\n",
              "      <th>...</th>\n",
              "      <th>Normalized 42</th>\n",
              "      <th>Normalized 43</th>\n",
              "      <th>Normalized 44</th>\n",
              "      <th>Normalized 45</th>\n",
              "      <th>Normalized 46</th>\n",
              "      <th>Normalized 47</th>\n",
              "      <th>Normalized 48</th>\n",
              "      <th>Normalized 49</th>\n",
              "      <th>Normalized 50</th>\n",
              "      <th>Normalized 51</th>\n",
              "    </tr>\n",
              "  </thead>\n",
              "  <tbody>\n",
              "    <tr>\n",
              "      <th>0</th>\n",
              "      <td>P1</td>\n",
              "      <td>11</td>\n",
              "      <td>12</td>\n",
              "      <td>10</td>\n",
              "      <td>8</td>\n",
              "      <td>13</td>\n",
              "      <td>12</td>\n",
              "      <td>14</td>\n",
              "      <td>21</td>\n",
              "      <td>6</td>\n",
              "      <td>...</td>\n",
              "      <td>0.06</td>\n",
              "      <td>0.22</td>\n",
              "      <td>0.28</td>\n",
              "      <td>0.39</td>\n",
              "      <td>0.50</td>\n",
              "      <td>0.00</td>\n",
              "      <td>0.22</td>\n",
              "      <td>0.17</td>\n",
              "      <td>0.11</td>\n",
              "      <td>0.39</td>\n",
              "    </tr>\n",
              "    <tr>\n",
              "      <th>1</th>\n",
              "      <td>P2</td>\n",
              "      <td>7</td>\n",
              "      <td>6</td>\n",
              "      <td>3</td>\n",
              "      <td>2</td>\n",
              "      <td>7</td>\n",
              "      <td>1</td>\n",
              "      <td>6</td>\n",
              "      <td>3</td>\n",
              "      <td>3</td>\n",
              "      <td>...</td>\n",
              "      <td>0.20</td>\n",
              "      <td>0.40</td>\n",
              "      <td>0.50</td>\n",
              "      <td>0.10</td>\n",
              "      <td>0.10</td>\n",
              "      <td>0.40</td>\n",
              "      <td>0.50</td>\n",
              "      <td>0.10</td>\n",
              "      <td>0.60</td>\n",
              "      <td>0.00</td>\n",
              "    </tr>\n",
              "    <tr>\n",
              "      <th>2</th>\n",
              "      <td>P3</td>\n",
              "      <td>7</td>\n",
              "      <td>11</td>\n",
              "      <td>8</td>\n",
              "      <td>9</td>\n",
              "      <td>10</td>\n",
              "      <td>8</td>\n",
              "      <td>7</td>\n",
              "      <td>13</td>\n",
              "      <td>12</td>\n",
              "      <td>...</td>\n",
              "      <td>0.27</td>\n",
              "      <td>1.00</td>\n",
              "      <td>0.18</td>\n",
              "      <td>0.18</td>\n",
              "      <td>0.36</td>\n",
              "      <td>0.45</td>\n",
              "      <td>1.00</td>\n",
              "      <td>0.45</td>\n",
              "      <td>0.45</td>\n",
              "      <td>0.36</td>\n",
              "    </tr>\n",
              "    <tr>\n",
              "      <th>3</th>\n",
              "      <td>P4</td>\n",
              "      <td>12</td>\n",
              "      <td>8</td>\n",
              "      <td>13</td>\n",
              "      <td>5</td>\n",
              "      <td>9</td>\n",
              "      <td>6</td>\n",
              "      <td>9</td>\n",
              "      <td>13</td>\n",
              "      <td>13</td>\n",
              "      <td>...</td>\n",
              "      <td>0.41</td>\n",
              "      <td>0.47</td>\n",
              "      <td>0.06</td>\n",
              "      <td>0.12</td>\n",
              "      <td>0.24</td>\n",
              "      <td>0.35</td>\n",
              "      <td>0.71</td>\n",
              "      <td>0.35</td>\n",
              "      <td>0.29</td>\n",
              "      <td>0.35</td>\n",
              "    </tr>\n",
              "    <tr>\n",
              "      <th>4</th>\n",
              "      <td>P5</td>\n",
              "      <td>8</td>\n",
              "      <td>5</td>\n",
              "      <td>13</td>\n",
              "      <td>11</td>\n",
              "      <td>6</td>\n",
              "      <td>7</td>\n",
              "      <td>9</td>\n",
              "      <td>14</td>\n",
              "      <td>9</td>\n",
              "      <td>...</td>\n",
              "      <td>0.27</td>\n",
              "      <td>0.53</td>\n",
              "      <td>0.27</td>\n",
              "      <td>0.60</td>\n",
              "      <td>0.20</td>\n",
              "      <td>0.20</td>\n",
              "      <td>0.13</td>\n",
              "      <td>0.53</td>\n",
              "      <td>0.33</td>\n",
              "      <td>0.40</td>\n",
              "    </tr>\n",
              "  </tbody>\n",
              "</table>\n",
              "<p>5 rows × 107 columns</p>\n",
              "</div>\n",
              "      <button class=\"colab-df-convert\" onclick=\"convertToInteractive('df-486b93a3-9972-49c4-91dc-bc062a0a4f61')\"\n",
              "              title=\"Convert this dataframe to an interactive table.\"\n",
              "              style=\"display:none;\">\n",
              "        \n",
              "  <svg xmlns=\"http://www.w3.org/2000/svg\" height=\"24px\"viewBox=\"0 0 24 24\"\n",
              "       width=\"24px\">\n",
              "    <path d=\"M0 0h24v24H0V0z\" fill=\"none\"/>\n",
              "    <path d=\"M18.56 5.44l.94 2.06.94-2.06 2.06-.94-2.06-.94-.94-2.06-.94 2.06-2.06.94zm-11 1L8.5 8.5l.94-2.06 2.06-.94-2.06-.94L8.5 2.5l-.94 2.06-2.06.94zm10 10l.94 2.06.94-2.06 2.06-.94-2.06-.94-.94-2.06-.94 2.06-2.06.94z\"/><path d=\"M17.41 7.96l-1.37-1.37c-.4-.4-.92-.59-1.43-.59-.52 0-1.04.2-1.43.59L10.3 9.45l-7.72 7.72c-.78.78-.78 2.05 0 2.83L4 21.41c.39.39.9.59 1.41.59.51 0 1.02-.2 1.41-.59l7.78-7.78 2.81-2.81c.8-.78.8-2.07 0-2.86zM5.41 20L4 18.59l7.72-7.72 1.47 1.35L5.41 20z\"/>\n",
              "  </svg>\n",
              "      </button>\n",
              "      \n",
              "  <style>\n",
              "    .colab-df-container {\n",
              "      display:flex;\n",
              "      flex-wrap:wrap;\n",
              "      gap: 12px;\n",
              "    }\n",
              "\n",
              "    .colab-df-convert {\n",
              "      background-color: #E8F0FE;\n",
              "      border: none;\n",
              "      border-radius: 50%;\n",
              "      cursor: pointer;\n",
              "      display: none;\n",
              "      fill: #1967D2;\n",
              "      height: 32px;\n",
              "      padding: 0 0 0 0;\n",
              "      width: 32px;\n",
              "    }\n",
              "\n",
              "    .colab-df-convert:hover {\n",
              "      background-color: #E2EBFA;\n",
              "      box-shadow: 0px 1px 2px rgba(60, 64, 67, 0.3), 0px 1px 3px 1px rgba(60, 64, 67, 0.15);\n",
              "      fill: #174EA6;\n",
              "    }\n",
              "\n",
              "    [theme=dark] .colab-df-convert {\n",
              "      background-color: #3B4455;\n",
              "      fill: #D2E3FC;\n",
              "    }\n",
              "\n",
              "    [theme=dark] .colab-df-convert:hover {\n",
              "      background-color: #434B5C;\n",
              "      box-shadow: 0px 1px 3px 1px rgba(0, 0, 0, 0.15);\n",
              "      filter: drop-shadow(0px 1px 2px rgba(0, 0, 0, 0.3));\n",
              "      fill: #FFFFFF;\n",
              "    }\n",
              "  </style>\n",
              "\n",
              "      <script>\n",
              "        const buttonEl =\n",
              "          document.querySelector('#df-486b93a3-9972-49c4-91dc-bc062a0a4f61 button.colab-df-convert');\n",
              "        buttonEl.style.display =\n",
              "          google.colab.kernel.accessAllowed ? 'block' : 'none';\n",
              "\n",
              "        async function convertToInteractive(key) {\n",
              "          const element = document.querySelector('#df-486b93a3-9972-49c4-91dc-bc062a0a4f61');\n",
              "          const dataTable =\n",
              "            await google.colab.kernel.invokeFunction('convertToInteractive',\n",
              "                                                     [key], {});\n",
              "          if (!dataTable) return;\n",
              "\n",
              "          const docLinkHtml = 'Like what you see? Visit the ' +\n",
              "            '<a target=\"_blank\" href=https://colab.research.google.com/notebooks/data_table.ipynb>data table notebook</a>'\n",
              "            + ' to learn more about interactive tables.';\n",
              "          element.innerHTML = '';\n",
              "          dataTable['output_type'] = 'display_data';\n",
              "          await google.colab.output.renderOutput(dataTable, element);\n",
              "          const docLink = document.createElement('div');\n",
              "          docLink.innerHTML = docLinkHtml;\n",
              "          element.appendChild(docLink);\n",
              "        }\n",
              "      </script>\n",
              "    </div>\n",
              "  </div>\n",
              "  "
            ]
          },
          "metadata": {},
          "execution_count": 3
        }
      ]
    },
    {
      "cell_type": "code",
      "source": [
        "df.shape"
      ],
      "metadata": {
        "colab": {
          "base_uri": "https://localhost:8080/"
        },
        "id": "NZeTjk5TCHwI",
        "outputId": "6907899d-a1d9-4aed-abbf-1869a0885f8f"
      },
      "execution_count": null,
      "outputs": [
        {
          "output_type": "execute_result",
          "data": {
            "text/plain": [
              "(811, 107)"
            ]
          },
          "metadata": {},
          "execution_count": 4
        }
      ]
    },
    {
      "cell_type": "markdown",
      "source": [
        "##exploratory data analysis"
      ],
      "metadata": {
        "id": "wYDdvVRTLgR8"
      }
    },
    {
      "cell_type": "code",
      "source": [
        "#get the columns of dataset\n",
        "df.columns"
      ],
      "metadata": {
        "colab": {
          "base_uri": "https://localhost:8080/"
        },
        "id": "3jSwHHedCQxn",
        "outputId": "ba1c8a3d-5c7d-4aa6-be30-23e5473cc5ef"
      },
      "execution_count": null,
      "outputs": [
        {
          "output_type": "execute_result",
          "data": {
            "text/plain": [
              "Index(['Product_Code', 'W0', 'W1', 'W2', 'W3', 'W4', 'W5', 'W6', 'W7', 'W8',\n",
              "       ...\n",
              "       'Normalized 42', 'Normalized 43', 'Normalized 44', 'Normalized 45',\n",
              "       'Normalized 46', 'Normalized 47', 'Normalized 48', 'Normalized 49',\n",
              "       'Normalized 50', 'Normalized 51'],\n",
              "      dtype='object', length=107)"
            ]
          },
          "metadata": {},
          "execution_count": 4
        }
      ]
    },
    {
      "cell_type": "code",
      "source": [
        "df.describe()"
      ],
      "metadata": {
        "colab": {
          "base_uri": "https://localhost:8080/",
          "height": 411
        },
        "id": "pBhn8d0tGkUS",
        "outputId": "1820bea8-1415-4ce0-d73d-6a13a3f886b4"
      },
      "execution_count": null,
      "outputs": [
        {
          "output_type": "execute_result",
          "data": {
            "text/plain": [
              "               W0          W1          W2          W3          W4          W5  \\\n",
              "count  811.000000  811.000000  811.000000  811.000000  811.000000  811.000000   \n",
              "mean     8.902589    9.129470    9.389642    9.717633    9.574599    9.466091   \n",
              "std     12.067163   12.564766   13.045073   13.553294   13.095765   12.823195   \n",
              "min      0.000000    0.000000    0.000000    0.000000    0.000000    0.000000   \n",
              "25%      0.000000    0.000000    0.000000    0.000000    0.000000    0.000000   \n",
              "50%      3.000000    3.000000    3.000000    4.000000    4.000000    3.000000   \n",
              "75%     12.000000   12.000000   12.000000   13.000000   13.000000   12.500000   \n",
              "max     54.000000   53.000000   56.000000   59.000000   61.000000   52.000000   \n",
              "\n",
              "               W6          W7          W8          W9  ...  Normalized 42  \\\n",
              "count  811.000000  811.000000  811.000000  811.000000  ...     811.000000   \n",
              "mean     9.720099    9.585697    9.784217    9.681874  ...       0.299149   \n",
              "std     13.347375   13.049138   13.550237   13.137916  ...       0.266993   \n",
              "min      0.000000    0.000000    0.000000    0.000000  ...       0.000000   \n",
              "25%      0.000000    0.000000    0.000000    0.000000  ...       0.000000   \n",
              "50%      4.000000    4.000000    4.000000    4.000000  ...       0.280000   \n",
              "75%     13.000000   12.500000   13.000000   13.000000  ...       0.490000   \n",
              "max     56.000000   62.000000   63.000000   52.000000  ...       1.000000   \n",
              "\n",
              "       Normalized 43  Normalized 44  Normalized 45  Normalized 46  \\\n",
              "count     811.000000     811.000000     811.000000     811.000000   \n",
              "mean        0.287571       0.304846       0.316017       0.334760   \n",
              "std         0.256630       0.263396       0.262226       0.275203   \n",
              "min         0.000000       0.000000       0.000000       0.000000   \n",
              "25%         0.000000       0.000000       0.020000       0.085000   \n",
              "50%         0.270000       0.300000       0.310000       0.330000   \n",
              "75%         0.450000       0.500000       0.500000       0.500000   \n",
              "max         1.000000       1.000000       1.000000       1.000000   \n",
              "\n",
              "       Normalized 47  Normalized 48  Normalized 49  Normalized 50  \\\n",
              "count     811.000000      811.00000     811.000000     811.000000   \n",
              "mean        0.314636        0.33815       0.358903       0.373009   \n",
              "std         0.266029        0.27569       0.286665       0.295197   \n",
              "min         0.000000        0.00000       0.000000       0.000000   \n",
              "25%         0.000000        0.10500       0.100000       0.110000   \n",
              "50%         0.310000        0.33000       0.330000       0.350000   \n",
              "75%         0.500000        0.50000       0.550000       0.560000   \n",
              "max         1.000000        1.00000       1.000000       1.000000   \n",
              "\n",
              "       Normalized 51  \n",
              "count     811.000000  \n",
              "mean        0.427941  \n",
              "std         0.342360  \n",
              "min         0.000000  \n",
              "25%         0.090000  \n",
              "50%         0.430000  \n",
              "75%         0.670000  \n",
              "max         1.000000  \n",
              "\n",
              "[8 rows x 106 columns]"
            ],
            "text/html": [
              "\n",
              "  <div id=\"df-b05e0c54-3e25-46cc-96de-98e171202e06\">\n",
              "    <div class=\"colab-df-container\">\n",
              "      <div>\n",
              "<style scoped>\n",
              "    .dataframe tbody tr th:only-of-type {\n",
              "        vertical-align: middle;\n",
              "    }\n",
              "\n",
              "    .dataframe tbody tr th {\n",
              "        vertical-align: top;\n",
              "    }\n",
              "\n",
              "    .dataframe thead th {\n",
              "        text-align: right;\n",
              "    }\n",
              "</style>\n",
              "<table border=\"1\" class=\"dataframe\">\n",
              "  <thead>\n",
              "    <tr style=\"text-align: right;\">\n",
              "      <th></th>\n",
              "      <th>W0</th>\n",
              "      <th>W1</th>\n",
              "      <th>W2</th>\n",
              "      <th>W3</th>\n",
              "      <th>W4</th>\n",
              "      <th>W5</th>\n",
              "      <th>W6</th>\n",
              "      <th>W7</th>\n",
              "      <th>W8</th>\n",
              "      <th>W9</th>\n",
              "      <th>...</th>\n",
              "      <th>Normalized 42</th>\n",
              "      <th>Normalized 43</th>\n",
              "      <th>Normalized 44</th>\n",
              "      <th>Normalized 45</th>\n",
              "      <th>Normalized 46</th>\n",
              "      <th>Normalized 47</th>\n",
              "      <th>Normalized 48</th>\n",
              "      <th>Normalized 49</th>\n",
              "      <th>Normalized 50</th>\n",
              "      <th>Normalized 51</th>\n",
              "    </tr>\n",
              "  </thead>\n",
              "  <tbody>\n",
              "    <tr>\n",
              "      <th>count</th>\n",
              "      <td>811.000000</td>\n",
              "      <td>811.000000</td>\n",
              "      <td>811.000000</td>\n",
              "      <td>811.000000</td>\n",
              "      <td>811.000000</td>\n",
              "      <td>811.000000</td>\n",
              "      <td>811.000000</td>\n",
              "      <td>811.000000</td>\n",
              "      <td>811.000000</td>\n",
              "      <td>811.000000</td>\n",
              "      <td>...</td>\n",
              "      <td>811.000000</td>\n",
              "      <td>811.000000</td>\n",
              "      <td>811.000000</td>\n",
              "      <td>811.000000</td>\n",
              "      <td>811.000000</td>\n",
              "      <td>811.000000</td>\n",
              "      <td>811.00000</td>\n",
              "      <td>811.000000</td>\n",
              "      <td>811.000000</td>\n",
              "      <td>811.000000</td>\n",
              "    </tr>\n",
              "    <tr>\n",
              "      <th>mean</th>\n",
              "      <td>8.902589</td>\n",
              "      <td>9.129470</td>\n",
              "      <td>9.389642</td>\n",
              "      <td>9.717633</td>\n",
              "      <td>9.574599</td>\n",
              "      <td>9.466091</td>\n",
              "      <td>9.720099</td>\n",
              "      <td>9.585697</td>\n",
              "      <td>9.784217</td>\n",
              "      <td>9.681874</td>\n",
              "      <td>...</td>\n",
              "      <td>0.299149</td>\n",
              "      <td>0.287571</td>\n",
              "      <td>0.304846</td>\n",
              "      <td>0.316017</td>\n",
              "      <td>0.334760</td>\n",
              "      <td>0.314636</td>\n",
              "      <td>0.33815</td>\n",
              "      <td>0.358903</td>\n",
              "      <td>0.373009</td>\n",
              "      <td>0.427941</td>\n",
              "    </tr>\n",
              "    <tr>\n",
              "      <th>std</th>\n",
              "      <td>12.067163</td>\n",
              "      <td>12.564766</td>\n",
              "      <td>13.045073</td>\n",
              "      <td>13.553294</td>\n",
              "      <td>13.095765</td>\n",
              "      <td>12.823195</td>\n",
              "      <td>13.347375</td>\n",
              "      <td>13.049138</td>\n",
              "      <td>13.550237</td>\n",
              "      <td>13.137916</td>\n",
              "      <td>...</td>\n",
              "      <td>0.266993</td>\n",
              "      <td>0.256630</td>\n",
              "      <td>0.263396</td>\n",
              "      <td>0.262226</td>\n",
              "      <td>0.275203</td>\n",
              "      <td>0.266029</td>\n",
              "      <td>0.27569</td>\n",
              "      <td>0.286665</td>\n",
              "      <td>0.295197</td>\n",
              "      <td>0.342360</td>\n",
              "    </tr>\n",
              "    <tr>\n",
              "      <th>min</th>\n",
              "      <td>0.000000</td>\n",
              "      <td>0.000000</td>\n",
              "      <td>0.000000</td>\n",
              "      <td>0.000000</td>\n",
              "      <td>0.000000</td>\n",
              "      <td>0.000000</td>\n",
              "      <td>0.000000</td>\n",
              "      <td>0.000000</td>\n",
              "      <td>0.000000</td>\n",
              "      <td>0.000000</td>\n",
              "      <td>...</td>\n",
              "      <td>0.000000</td>\n",
              "      <td>0.000000</td>\n",
              "      <td>0.000000</td>\n",
              "      <td>0.000000</td>\n",
              "      <td>0.000000</td>\n",
              "      <td>0.000000</td>\n",
              "      <td>0.00000</td>\n",
              "      <td>0.000000</td>\n",
              "      <td>0.000000</td>\n",
              "      <td>0.000000</td>\n",
              "    </tr>\n",
              "    <tr>\n",
              "      <th>25%</th>\n",
              "      <td>0.000000</td>\n",
              "      <td>0.000000</td>\n",
              "      <td>0.000000</td>\n",
              "      <td>0.000000</td>\n",
              "      <td>0.000000</td>\n",
              "      <td>0.000000</td>\n",
              "      <td>0.000000</td>\n",
              "      <td>0.000000</td>\n",
              "      <td>0.000000</td>\n",
              "      <td>0.000000</td>\n",
              "      <td>...</td>\n",
              "      <td>0.000000</td>\n",
              "      <td>0.000000</td>\n",
              "      <td>0.000000</td>\n",
              "      <td>0.020000</td>\n",
              "      <td>0.085000</td>\n",
              "      <td>0.000000</td>\n",
              "      <td>0.10500</td>\n",
              "      <td>0.100000</td>\n",
              "      <td>0.110000</td>\n",
              "      <td>0.090000</td>\n",
              "    </tr>\n",
              "    <tr>\n",
              "      <th>50%</th>\n",
              "      <td>3.000000</td>\n",
              "      <td>3.000000</td>\n",
              "      <td>3.000000</td>\n",
              "      <td>4.000000</td>\n",
              "      <td>4.000000</td>\n",
              "      <td>3.000000</td>\n",
              "      <td>4.000000</td>\n",
              "      <td>4.000000</td>\n",
              "      <td>4.000000</td>\n",
              "      <td>4.000000</td>\n",
              "      <td>...</td>\n",
              "      <td>0.280000</td>\n",
              "      <td>0.270000</td>\n",
              "      <td>0.300000</td>\n",
              "      <td>0.310000</td>\n",
              "      <td>0.330000</td>\n",
              "      <td>0.310000</td>\n",
              "      <td>0.33000</td>\n",
              "      <td>0.330000</td>\n",
              "      <td>0.350000</td>\n",
              "      <td>0.430000</td>\n",
              "    </tr>\n",
              "    <tr>\n",
              "      <th>75%</th>\n",
              "      <td>12.000000</td>\n",
              "      <td>12.000000</td>\n",
              "      <td>12.000000</td>\n",
              "      <td>13.000000</td>\n",
              "      <td>13.000000</td>\n",
              "      <td>12.500000</td>\n",
              "      <td>13.000000</td>\n",
              "      <td>12.500000</td>\n",
              "      <td>13.000000</td>\n",
              "      <td>13.000000</td>\n",
              "      <td>...</td>\n",
              "      <td>0.490000</td>\n",
              "      <td>0.450000</td>\n",
              "      <td>0.500000</td>\n",
              "      <td>0.500000</td>\n",
              "      <td>0.500000</td>\n",
              "      <td>0.500000</td>\n",
              "      <td>0.50000</td>\n",
              "      <td>0.550000</td>\n",
              "      <td>0.560000</td>\n",
              "      <td>0.670000</td>\n",
              "    </tr>\n",
              "    <tr>\n",
              "      <th>max</th>\n",
              "      <td>54.000000</td>\n",
              "      <td>53.000000</td>\n",
              "      <td>56.000000</td>\n",
              "      <td>59.000000</td>\n",
              "      <td>61.000000</td>\n",
              "      <td>52.000000</td>\n",
              "      <td>56.000000</td>\n",
              "      <td>62.000000</td>\n",
              "      <td>63.000000</td>\n",
              "      <td>52.000000</td>\n",
              "      <td>...</td>\n",
              "      <td>1.000000</td>\n",
              "      <td>1.000000</td>\n",
              "      <td>1.000000</td>\n",
              "      <td>1.000000</td>\n",
              "      <td>1.000000</td>\n",
              "      <td>1.000000</td>\n",
              "      <td>1.00000</td>\n",
              "      <td>1.000000</td>\n",
              "      <td>1.000000</td>\n",
              "      <td>1.000000</td>\n",
              "    </tr>\n",
              "  </tbody>\n",
              "</table>\n",
              "<p>8 rows × 106 columns</p>\n",
              "</div>\n",
              "      <button class=\"colab-df-convert\" onclick=\"convertToInteractive('df-b05e0c54-3e25-46cc-96de-98e171202e06')\"\n",
              "              title=\"Convert this dataframe to an interactive table.\"\n",
              "              style=\"display:none;\">\n",
              "        \n",
              "  <svg xmlns=\"http://www.w3.org/2000/svg\" height=\"24px\"viewBox=\"0 0 24 24\"\n",
              "       width=\"24px\">\n",
              "    <path d=\"M0 0h24v24H0V0z\" fill=\"none\"/>\n",
              "    <path d=\"M18.56 5.44l.94 2.06.94-2.06 2.06-.94-2.06-.94-.94-2.06-.94 2.06-2.06.94zm-11 1L8.5 8.5l.94-2.06 2.06-.94-2.06-.94L8.5 2.5l-.94 2.06-2.06.94zm10 10l.94 2.06.94-2.06 2.06-.94-2.06-.94-.94-2.06-.94 2.06-2.06.94z\"/><path d=\"M17.41 7.96l-1.37-1.37c-.4-.4-.92-.59-1.43-.59-.52 0-1.04.2-1.43.59L10.3 9.45l-7.72 7.72c-.78.78-.78 2.05 0 2.83L4 21.41c.39.39.9.59 1.41.59.51 0 1.02-.2 1.41-.59l7.78-7.78 2.81-2.81c.8-.78.8-2.07 0-2.86zM5.41 20L4 18.59l7.72-7.72 1.47 1.35L5.41 20z\"/>\n",
              "  </svg>\n",
              "      </button>\n",
              "      \n",
              "  <style>\n",
              "    .colab-df-container {\n",
              "      display:flex;\n",
              "      flex-wrap:wrap;\n",
              "      gap: 12px;\n",
              "    }\n",
              "\n",
              "    .colab-df-convert {\n",
              "      background-color: #E8F0FE;\n",
              "      border: none;\n",
              "      border-radius: 50%;\n",
              "      cursor: pointer;\n",
              "      display: none;\n",
              "      fill: #1967D2;\n",
              "      height: 32px;\n",
              "      padding: 0 0 0 0;\n",
              "      width: 32px;\n",
              "    }\n",
              "\n",
              "    .colab-df-convert:hover {\n",
              "      background-color: #E2EBFA;\n",
              "      box-shadow: 0px 1px 2px rgba(60, 64, 67, 0.3), 0px 1px 3px 1px rgba(60, 64, 67, 0.15);\n",
              "      fill: #174EA6;\n",
              "    }\n",
              "\n",
              "    [theme=dark] .colab-df-convert {\n",
              "      background-color: #3B4455;\n",
              "      fill: #D2E3FC;\n",
              "    }\n",
              "\n",
              "    [theme=dark] .colab-df-convert:hover {\n",
              "      background-color: #434B5C;\n",
              "      box-shadow: 0px 1px 3px 1px rgba(0, 0, 0, 0.15);\n",
              "      filter: drop-shadow(0px 1px 2px rgba(0, 0, 0, 0.3));\n",
              "      fill: #FFFFFF;\n",
              "    }\n",
              "  </style>\n",
              "\n",
              "      <script>\n",
              "        const buttonEl =\n",
              "          document.querySelector('#df-b05e0c54-3e25-46cc-96de-98e171202e06 button.colab-df-convert');\n",
              "        buttonEl.style.display =\n",
              "          google.colab.kernel.accessAllowed ? 'block' : 'none';\n",
              "\n",
              "        async function convertToInteractive(key) {\n",
              "          const element = document.querySelector('#df-b05e0c54-3e25-46cc-96de-98e171202e06');\n",
              "          const dataTable =\n",
              "            await google.colab.kernel.invokeFunction('convertToInteractive',\n",
              "                                                     [key], {});\n",
              "          if (!dataTable) return;\n",
              "\n",
              "          const docLinkHtml = 'Like what you see? Visit the ' +\n",
              "            '<a target=\"_blank\" href=https://colab.research.google.com/notebooks/data_table.ipynb>data table notebook</a>'\n",
              "            + ' to learn more about interactive tables.';\n",
              "          element.innerHTML = '';\n",
              "          dataTable['output_type'] = 'display_data';\n",
              "          await google.colab.output.renderOutput(dataTable, element);\n",
              "          const docLink = document.createElement('div');\n",
              "          docLink.innerHTML = docLinkHtml;\n",
              "          element.appendChild(docLink);\n",
              "        }\n",
              "      </script>\n",
              "    </div>\n",
              "  </div>\n",
              "  "
            ]
          },
          "metadata": {},
          "execution_count": 6
        }
      ]
    },
    {
      "cell_type": "code",
      "source": [
        "#drop the product_code column\n",
        "df.drop(columns = 'Product_Code',inplace=True)"
      ],
      "metadata": {
        "id": "KafPt73lHrox"
      },
      "execution_count": null,
      "outputs": []
    },
    {
      "cell_type": "code",
      "source": [
        "#mean of all the columns\n",
        "mean = list(np.mean(df[i]) for i in df.columns)"
      ],
      "metadata": {
        "id": "ruIyZhccGwKs"
      },
      "execution_count": null,
      "outputs": []
    },
    {
      "cell_type": "code",
      "source": [
        "#plot mean with columns of dataset\n",
        "plt.figure(figsize=(200,25))\n",
        "sns.scatterplot(df.columns,mean)"
      ],
      "metadata": {
        "colab": {
          "base_uri": "https://localhost:8080/",
          "height": 140
        },
        "id": "N4QfJceeICCF",
        "outputId": "9800c1bb-5478-4006-f79b-8908371f678f"
      },
      "execution_count": null,
      "outputs": [
        {
          "output_type": "stream",
          "name": "stderr",
          "text": [
            "/usr/local/lib/python3.7/dist-packages/seaborn/_decorators.py:43: FutureWarning: Pass the following variables as keyword args: x, y. From version 0.12, the only valid positional argument will be `data`, and passing other arguments without an explicit keyword will result in an error or misinterpretation.\n",
            "  FutureWarning\n"
          ]
        },
        {
          "output_type": "execute_result",
          "data": {
            "text/plain": [
              "<matplotlib.axes._subplots.AxesSubplot at 0x7fa27ae65590>"
            ]
          },
          "metadata": {},
          "execution_count": 7
        },
        {
          "output_type": "display_data",
          "data": {
            "text/plain": [
              "<Figure size 14400x1800 with 1 Axes>"
            ],
            "image/png": "[encoded data removed]"
          },
          "metadata": {
            "needs_background": "light"
          }
        }
      ]
    },
    {
      "cell_type": "markdown",
      "source": [
        "####histogram"
      ],
      "metadata": {
        "id": "ZYWAuj9Gay6b"
      }
    },
    {
      "cell_type": "code",
      "source": [
        "#histograms\n",
        "sns.histplot(df['W0'])"
      ],
      "metadata": {
        "colab": {
          "base_uri": "https://localhost:8080/",
          "height": 254
        },
        "id": "nzf4RUvVKsXJ",
        "outputId": "6a3c1244-19e9-4ce0-f24c-427e372f6523"
      },
      "execution_count": null,
      "outputs": [
        {
          "output_type": "execute_result",
          "data": {
            "text/plain": [
              "<matplotlib.axes._subplots.AxesSubplot at 0x7fa27a72f590>"
            ]
          },
          "metadata": {},
          "execution_count": 8
        },
        {
          "output_type": "display_data",
          "data": {
            "text/plain": [
              "<Figure size 432x288 with 1 Axes>"
            ],
            "image/png": "[encoded data removed]"
          },
          "metadata": {
            "needs_background": "light"
          }
        }
      ]
    },
    {
      "cell_type": "code",
      "source": [
        "new_columns= iter(df.columns)"
      ],
      "metadata": {
        "id": "3aqLLarjWEqr"
      },
      "execution_count": null,
      "outputs": []
    },
    {
      "cell_type": "code",
      "source": [
        "#histogram of all the columns\n",
        "plt.figure(figsize=(500,10))\n",
        "for j in range(1,100):\n",
        "    plt.subplot(1,100,j)\n",
        "    sns.histplot(df[next(new_columns)])"
      ],
      "metadata": {
        "id": "g4ia9BoQW8a2"
      },
      "execution_count": null,
      "outputs": []
    },
    {
      "cell_type": "markdown",
      "source": [
        "##Data Preparation"
      ],
      "metadata": {
        "id": "lI5W4g-FFAMw"
      }
    },
    {
      "cell_type": "markdown",
      "source": [
        "####train test split"
      ],
      "metadata": {
        "id": "WvL7bN8SFK44"
      }
    },
    {
      "cell_type": "code",
      "source": [
        "from sklearn.model_selection import train_test_split"
      ],
      "metadata": {
        "id": "ePmx-tQLEIBh"
      },
      "execution_count": null,
      "outputs": []
    },
    {
      "cell_type": "code",
      "source": [
        "#implementing train_test_split\n",
        "train,test = train_test_split(df,test_size=0.20,random_state=0)"
      ],
      "metadata": {
        "id": "AtM-7IxzFXl6"
      },
      "execution_count": null,
      "outputs": []
    },
    {
      "cell_type": "code",
      "source": [
        "train.shape,test.shape"
      ],
      "metadata": {
        "colab": {
          "base_uri": "https://localhost:8080/"
        },
        "id": "q6bb2RriF8XK",
        "outputId": "ee623d72-4628-4aef-f99d-b4574209f4db"
      },
      "execution_count": null,
      "outputs": [
        {
          "output_type": "execute_result",
          "data": {
            "text/plain": [
              "((648, 106), (163, 106))"
            ]
          },
          "metadata": {},
          "execution_count": 13
        }
      ]
    },
    {
      "cell_type": "markdown",
      "source": [
        "####normalize the data"
      ],
      "metadata": {
        "id": "P5Tp4rjkK45g"
      }
    },
    {
      "cell_type": "code",
      "source": [
        "from sklearn.preprocessing import Normalizer"
      ],
      "metadata": {
        "id": "faXLDsZ-GONB"
      },
      "execution_count": null,
      "outputs": []
    },
    {
      "cell_type": "code",
      "source": [
        "normalize = Normalizer()"
      ],
      "metadata": {
        "id": "JYXwnLYmLXy8"
      },
      "execution_count": null,
      "outputs": []
    },
    {
      "cell_type": "code",
      "source": [
        "#normalize the training data\n",
        "train = normalize.fit_transform(train)"
      ],
      "metadata": {
        "id": "xyKAPX-ELgrt"
      },
      "execution_count": null,
      "outputs": []
    },
    {
      "cell_type": "code",
      "source": [
        "train"
      ],
      "metadata": {
        "colab": {
          "base_uri": "https://localhost:8080/"
        },
        "id": "FXSk4rjMMbJg",
        "outputId": "7ba37709-f180-4cd4-8de6-4aa8e7444cd1"
      },
      "execution_count": null,
      "outputs": [
        {
          "output_type": "execute_result",
          "data": {
            "text/plain": [
              "array([[1.32764030e-01, 1.29175813e-01, 1.54293332e-01, ...,\n",
              "        1.32764030e-03, 3.58821702e-04, 3.58821702e-04],\n",
              "       [1.23898177e-01, 9.11016004e-02, 1.53050689e-01, ...,\n",
              "        1.78559137e-03, 7.65253444e-04, 0.00000000e+00],\n",
              "       [1.42762491e-01, 1.08036480e-01, 1.62054720e-01, ...,\n",
              "        1.54337828e-04, 1.65913165e-03, 2.70091199e-04],\n",
              "       ...,\n",
              "       [1.65147833e-01, 1.39740474e-01, 1.77851513e-01, ...,\n",
              "        3.93814064e-03, 4.82739820e-03, 4.82739820e-03],\n",
              "       [1.64254982e-01, 1.36879152e-01, 0.00000000e+00, ...,\n",
              "        2.73758303e-02, 1.53304650e-02, 1.83418063e-02],\n",
              "       [0.00000000e+00, 0.00000000e+00, 1.31947825e-01, ...,\n",
              "        3.29869562e-02, 3.29869562e-02, 1.31947825e-01]])"
            ]
          },
          "metadata": {},
          "execution_count": 17
        }
      ]
    },
    {
      "cell_type": "code",
      "source": [
        "#normalize the test data\n",
        "test = normalize.transform(test )"
      ],
      "metadata": {
        "id": "0T0i1CWsL54W"
      },
      "execution_count": null,
      "outputs": []
    },
    {
      "cell_type": "code",
      "source": [
        "test"
      ],
      "metadata": {
        "colab": {
          "base_uri": "https://localhost:8080/"
        },
        "id": "dpP_ImTxMjzp",
        "outputId": "3023cf8b-e7ef-4a20-fdf8-c31fe3a6b974"
      },
      "execution_count": null,
      "outputs": [
        {
          "output_type": "execute_result",
          "data": {
            "text/plain": [
              "array([[0.15087244, 0.15087244, 0.07543622, ..., 0.01684742, 0.01684742,\n",
              "        0.00829798],\n",
              "       [0.18779333, 0.14606148, 0.06259778, ..., 0.01398017, 0.00918101,\n",
              "        0.01398017],\n",
              "       [0.12578711, 0.11361416, 0.1663636 , ..., 0.00186652, 0.00231286,\n",
              "        0.        ],\n",
              "       ...,\n",
              "       [0.        , 0.        , 0.20412415, ..., 0.10206207, 0.        ,\n",
              "        0.20412415],\n",
              "       [0.        , 0.        , 0.        , ..., 0.10482848, 0.20965697,\n",
              "        0.        ],\n",
              "       [0.16559153, 0.05519718, 0.08279577, ..., 0.00910753, 0.01214338,\n",
              "        0.00303584]])"
            ]
          },
          "metadata": {},
          "execution_count": 19
        }
      ]
    },
    {
      "cell_type": "markdown",
      "source": [
        "####find the k value"
      ],
      "metadata": {
        "id": "8HkESHDmMrXG"
      }
    },
    {
      "cell_type": "markdown",
      "source": [
        "#####elbow method"
      ],
      "metadata": {
        "id": "qXAXy17TRXr4"
      }
    },
    {
      "cell_type": "code",
      "source": [
        "from sklearn.cluster import KMeans"
      ],
      "metadata": {
        "id": "l1wL65VWMzAi"
      },
      "execution_count": null,
      "outputs": []
    },
    {
      "cell_type": "code",
      "source": [
        "#find wcss value \n",
        "wcss = []\n",
        "for i in range(1,10):\n",
        "   kmeans = KMeans(n_clusters=i,random_state=0)\n",
        "   kmeans.fit(train)\n",
        "   wcss.append(kmeans.inertia_)"
      ],
      "metadata": {
        "id": "yX00Ouk9M5x3"
      },
      "execution_count": null,
      "outputs": []
    },
    {
      "cell_type": "code",
      "source": [
        "#plot the wcss value with k-value\n",
        "sns.lineplot([i for i in range(1,10)],wcss)"
      ],
      "metadata": {
        "colab": {
          "base_uri": "https://localhost:8080/",
          "height": 289
        },
        "id": "c-8ISuG7QHUW",
        "outputId": "158838a7-004e-40f9-d549-a5609dd30451"
      },
      "execution_count": null,
      "outputs": [
        {
          "output_type": "stream",
          "name": "stderr",
          "text": [
            "/usr/local/lib/python3.7/dist-packages/seaborn/_decorators.py:43: FutureWarning: Pass the following variables as keyword args: x, y. From version 0.12, the only valid positional argument will be `data`, and passing other arguments without an explicit keyword will result in an error or misinterpretation.\n",
            "  FutureWarning\n"
          ]
        },
        {
          "output_type": "execute_result",
          "data": {
            "text/plain": [
              "<matplotlib.axes._subplots.AxesSubplot at 0x7fa2741f61d0>"
            ]
          },
          "metadata": {},
          "execution_count": 22
        },
        {
          "output_type": "display_data",
          "data": {
            "text/plain": [
              "<Figure size 432x288 with 1 Axes>"
            ],
            "image/png": "[encoded data removed]"
          },
          "metadata": {
            "needs_background": "light"
          }
        }
      ]
    },
    {
      "cell_type": "markdown",
      "source": [
        "##model training"
      ],
      "metadata": {
        "id": "IH6wsqTtSCDb"
      }
    },
    {
      "cell_type": "code",
      "source": [
        "Kmeans = KMeans(n_clusters=3,random_state=0)"
      ],
      "metadata": {
        "id": "1TKXR5IFR_ac"
      },
      "execution_count": null,
      "outputs": []
    },
    {
      "cell_type": "code",
      "source": [
        "Kmeans.fit(train)"
      ],
      "metadata": {
        "colab": {
          "base_uri": "https://localhost:8080/"
        },
        "id": "CH0k53v_SpEs",
        "outputId": "e931c957-dd64-4a21-eb99-fa651f8dd7bf"
      },
      "execution_count": null,
      "outputs": [
        {
          "output_type": "execute_result",
          "data": {
            "text/plain": [
              "KMeans(n_clusters=3, random_state=0)"
            ]
          },
          "metadata": {},
          "execution_count": 42
        }
      ]
    },
    {
      "cell_type": "code",
      "source": [
        "Kmeans.labels_"
      ],
      "metadata": {
        "colab": {
          "base_uri": "https://localhost:8080/"
        },
        "id": "xed5QVceSuWi",
        "outputId": "ef4a2714-2931-4fc3-903e-4d89e9f45856"
      },
      "execution_count": null,
      "outputs": [
        {
          "output_type": "execute_result",
          "data": {
            "text/plain": [
              "array([0, 0, 0, 0, 0, 0, 0, 0, 0, 0, 0, 2, 0, 0, 0, 2, 1, 2, 0, 0, 0, 0,\n",
              "       1, 0, 0, 0, 2, 1, 1, 1, 0, 0, 0, 0, 2, 1, 1, 1, 1, 0, 1, 0, 0, 0,\n",
              "       0, 0, 0, 0, 2, 2, 1, 2, 0, 1, 0, 1, 1, 1, 2, 0, 0, 0, 1, 2, 0, 0,\n",
              "       0, 0, 0, 1, 0, 0, 0, 0, 2, 0, 0, 0, 0, 2, 1, 0, 2, 0, 0, 0, 2, 0,\n",
              "       2, 2, 0, 0, 0, 0, 0, 0, 0, 2, 1, 0, 1, 2, 1, 1, 1, 0, 2, 0, 2, 2,\n",
              "       0, 2, 0, 0, 0, 0, 0, 0, 0, 1, 0, 0, 0, 0, 1, 1, 0, 2, 0, 0, 2, 0,\n",
              "       0, 1, 1, 0, 1, 0, 2, 2, 0, 0, 2, 0, 0, 0, 1, 0, 0, 0, 2, 0, 0, 1,\n",
              "       1, 1, 0, 2, 0, 0, 2, 0, 0, 0, 2, 0, 0, 0, 0, 1, 0, 0, 0, 0, 1, 1,\n",
              "       0, 0, 2, 0, 0, 0, 0, 1, 0, 0, 1, 0, 0, 1, 1, 0, 0, 0, 0, 0, 2, 0,\n",
              "       0, 1, 2, 1, 1, 0, 0, 0, 0, 0, 2, 2, 0, 1, 0, 1, 2, 1, 0, 0, 0, 0,\n",
              "       0, 0, 0, 0, 2, 0, 0, 0, 1, 1, 2, 2, 0, 0, 1, 0, 0, 0, 1, 2, 0, 0,\n",
              "       1, 1, 1, 1, 0, 0, 1, 0, 0, 0, 0, 2, 0, 1, 2, 1, 1, 0, 2, 0, 0, 0,\n",
              "       0, 1, 0, 2, 2, 0, 1, 0, 0, 0, 2, 0, 0, 0, 0, 0, 2, 0, 0, 1, 2, 1,\n",
              "       2, 0, 0, 0, 1, 0, 0, 0, 0, 2, 0, 0, 0, 0, 0, 0, 0, 0, 2, 2, 0, 0,\n",
              "       0, 0, 0, 0, 0, 0, 0, 0, 1, 0, 1, 1, 1, 0, 0, 0, 0, 0, 0, 2, 0, 0,\n",
              "       0, 0, 0, 2, 1, 0, 2, 0, 0, 0, 0, 1, 2, 1, 0, 0, 1, 2, 2, 0, 0, 2,\n",
              "       1, 2, 1, 0, 2, 0, 1, 0, 0, 0, 0, 1, 0, 0, 0, 0, 1, 2, 0, 0, 0, 0,\n",
              "       0, 1, 0, 1, 0, 2, 0, 1, 0, 0, 0, 2, 1, 2, 1, 0, 0, 1, 0, 0, 0, 0,\n",
              "       0, 0, 1, 1, 0, 1, 0, 0, 0, 1, 1, 0, 0, 1, 1, 0, 0, 1, 0, 0, 0, 1,\n",
              "       0, 1, 2, 0, 1, 1, 2, 0, 0, 0, 0, 0, 0, 0, 0, 0, 0, 0, 0, 0, 0, 0,\n",
              "       0, 1, 1, 1, 1, 0, 1, 1, 0, 1, 1, 2, 1, 0, 1, 0, 0, 2, 2, 0, 2, 0,\n",
              "       0, 0, 2, 0, 2, 0, 0, 2, 0, 1, 2, 0, 0, 0, 2, 0, 1, 0, 2, 0, 0, 0,\n",
              "       0, 0, 0, 2, 1, 0, 0, 0, 0, 2, 2, 0, 0, 0, 0, 0, 0, 2, 0, 0, 0, 1,\n",
              "       1, 1, 1, 1, 0, 1, 2, 0, 2, 1, 0, 0, 0, 0, 0, 0, 0, 0, 0, 0, 0, 0,\n",
              "       0, 0, 1, 0, 1, 0, 2, 0, 1, 0, 1, 0, 0, 0, 2, 0, 0, 0, 0, 0, 0, 2,\n",
              "       1, 0, 0, 0, 0, 2, 0, 0, 0, 0, 1, 1, 2, 2, 0, 0, 0, 1, 0, 0, 0, 0,\n",
              "       0, 0, 0, 0, 0, 0, 0, 0, 0, 0, 0, 2, 2, 2, 0, 0, 0, 0, 1, 0, 0, 0,\n",
              "       1, 0, 0, 0, 2, 0, 2, 0, 2, 2, 0, 0, 0, 0, 0, 1, 2, 0, 1, 0, 0, 0,\n",
              "       2, 0, 2, 1, 0, 0, 0, 0, 1, 0, 0, 0, 0, 0, 2, 0, 0, 1, 0, 0, 1, 2,\n",
              "       1, 1, 0, 0, 2, 2, 0, 0, 0, 1], dtype=int32)"
            ]
          },
          "metadata": {},
          "execution_count": 43
        }
      ]
    },
    {
      "cell_type": "code",
      "source": [
        "#cluster center of clusters\n",
        "Kmeans.cluster_centers_"
      ],
      "metadata": {
        "colab": {
          "base_uri": "https://localhost:8080/"
        },
        "id": "DoLEd4roS-Od",
        "outputId": "19ee63c1-be9a-44c0-a703-940523366359"
      },
      "execution_count": null,
      "outputs": [
        {
          "output_type": "execute_result",
          "data": {
            "text/plain": [
              "array([[ 1.23183186e-01,  1.26111264e-01,  1.27315172e-01,\n",
              "         1.31865844e-01,  1.29845323e-01,  1.30690596e-01,\n",
              "         1.34815044e-01,  1.33530780e-01,  1.32602712e-01,\n",
              "         1.34178320e-01,  1.31900305e-01,  1.34187397e-01,\n",
              "         1.32489313e-01,  1.32653153e-01,  1.37975986e-01,\n",
              "         1.37171834e-01,  1.36522496e-01,  1.37805058e-01,\n",
              "         1.38960714e-01,  1.34224495e-01,  1.33870154e-01,\n",
              "         1.34126784e-01,  1.38906743e-01,  1.44797331e-01,\n",
              "         1.54437019e-01,  1.41329692e-01,  9.57034815e-02,\n",
              "         9.88937351e-02,  9.97806533e-02,  9.76358199e-02,\n",
              "         1.02312173e-01,  1.04729377e-01,  1.02268561e-01,\n",
              "         1.07580966e-01,  1.08234965e-01,  1.10787627e-01,\n",
              "         1.09536059e-01,  1.11782382e-01,  1.13281487e-01,\n",
              "         1.07923049e-01,  1.13022549e-01,  1.12223613e-01,\n",
              "         1.13891007e-01,  1.14462419e-01,  1.14127874e-01,\n",
              "         1.19107669e-01,  1.20597962e-01,  1.21179619e-01,\n",
              "         1.20686313e-01,  1.30359713e-01,  1.28230299e-01,\n",
              "         1.42963414e-01,  3.71517330e-02,  2.50505755e-01,\n",
              "         6.63888615e-03,  6.84847623e-03,  6.84311280e-03,\n",
              "         7.27019045e-03,  7.04093853e-03,  7.13471520e-03,\n",
              "         7.57393307e-03,  7.49779984e-03,  7.31112724e-03,\n",
              "         7.50791324e-03,  7.13095871e-03,  7.48412606e-03,\n",
              "         7.30789005e-03,  7.43524377e-03,  7.87085764e-03,\n",
              "         7.66686079e-03,  7.63994576e-03,  7.86514834e-03,\n",
              "         7.93600555e-03,  7.73494745e-03,  7.45043719e-03,\n",
              "         7.54104971e-03,  8.03834739e-03,  8.65740676e-03,\n",
              "         9.64130664e-03,  8.87966073e-03,  4.93537920e-03,\n",
              "         5.12012685e-03,  4.96775396e-03,  4.88432653e-03,\n",
              "         5.34499255e-03,  5.50968142e-03,  5.02358388e-03,\n",
              "         5.73191031e-03,  5.66576391e-03,  5.98867286e-03,\n",
              "         5.85782437e-03,  6.00061433e-03,  6.16929443e-03,\n",
              "         5.68793378e-03,  6.33417882e-03,  6.09944470e-03,\n",
              "         6.13256872e-03,  6.36609907e-03,  6.21239030e-03,\n",
              "         6.70048447e-03,  6.79422489e-03,  6.90578283e-03,\n",
              "         6.85645431e-03,  7.76776534e-03,  7.47396402e-03,\n",
              "         9.16568342e-03],\n",
              "       [ 3.00508102e-02,  3.75825180e-02,  3.40944650e-02,\n",
              "         3.88708673e-02,  5.70656777e-02,  3.72136503e-02,\n",
              "         4.05933971e-02,  4.51051431e-02,  4.54015340e-02,\n",
              "         4.25365392e-02,  4.56073468e-02,  4.22022327e-02,\n",
              "         5.41288181e-02,  5.48652884e-02,  5.42149267e-02,\n",
              "         4.72381132e-02,  3.99096042e-02,  3.70729404e-02,\n",
              "         5.51893164e-02,  3.61557614e-02,  5.31186566e-02,\n",
              "         5.96409496e-02,  4.70752580e-02,  5.93615968e-02,\n",
              "         1.07672377e-01,  1.08781392e-01,  5.15199745e-02,\n",
              "         6.59219069e-02,  6.06358055e-02,  5.05158877e-02,\n",
              "         6.70585472e-02,  6.14243976e-02,  6.02467549e-02,\n",
              "         6.47258741e-02,  6.86784898e-02,  6.16192762e-02,\n",
              "         7.53429059e-02,  6.64223004e-02,  7.34669341e-02,\n",
              "         6.72667823e-02,  8.08598488e-02,  6.72680735e-02,\n",
              "         6.82760373e-02,  7.21487476e-02,  8.17089728e-02,\n",
              "         1.05577285e-01,  1.14452126e-01,  9.05499166e-02,\n",
              "         1.13437434e-01,  1.23791087e-01,  1.35962598e-01,\n",
              "         2.46962504e-01, -2.42861287e-17,  3.83403667e-01,\n",
              "         8.78839783e-03,  1.41884749e-02,  8.96678842e-03,\n",
              "         1.37467703e-02,  1.87994860e-02,  1.05175239e-02,\n",
              "         1.00132370e-02,  1.46003260e-02,  1.47628300e-02,\n",
              "         1.27465721e-02,  1.45659993e-02,  1.31363116e-02,\n",
              "         1.93366316e-02,  1.67142555e-02,  1.80235949e-02,\n",
              "         1.57855516e-02,  1.42104987e-02,  1.37470760e-02,\n",
              "         1.63541420e-02,  1.32556403e-02,  1.79055711e-02,\n",
              "         2.04349751e-02,  1.38804878e-02,  1.98482837e-02,\n",
              "         3.58037361e-02,  3.25964714e-02,  1.44980115e-02,\n",
              "         2.30957918e-02,  1.78063875e-02,  1.75923060e-02,\n",
              "         2.33965439e-02,  1.94388143e-02,  1.76141293e-02,\n",
              "         1.67824554e-02,  2.03477115e-02,  1.97767274e-02,\n",
              "         2.44652837e-02,  2.31461635e-02,  2.58896272e-02,\n",
              "         2.10901633e-02,  2.43465989e-02,  2.18202384e-02,\n",
              "         2.34659408e-02,  2.17767561e-02,  2.72324399e-02,\n",
              "         3.73477838e-02,  4.30820029e-02,  2.96349798e-02,\n",
              "         3.66517244e-02,  3.88790628e-02,  3.90128364e-02,\n",
              "         9.17797512e-02],\n",
              "       [ 2.94002158e-02,  2.62824735e-02,  2.36201067e-02,\n",
              "         8.74040040e-03,  2.17706435e-02,  2.71055812e-02,\n",
              "         3.91975902e-02,  2.45526391e-02,  7.24593383e-03,\n",
              "         2.44810323e-02,  3.02101328e-02,  2.16887479e-02,\n",
              "         1.39890490e-02,  1.39593264e-02,  2.44609598e-02,\n",
              "         2.37705109e-02,  1.91756736e-02,  3.80364955e-02,\n",
              "         4.77722673e-02,  2.24065464e-02,  3.07555433e-02,\n",
              "         4.01343113e-02,  6.33993374e-02,  5.69878511e-02,\n",
              "         6.12309215e-02,  8.21670947e-02,  1.66612099e-02,\n",
              "         1.65787065e-02,  2.15374111e-02,  2.04985535e-02,\n",
              "         1.14500242e-02,  3.12717983e-02,  3.44237026e-02,\n",
              "         3.79182921e-02,  1.40376035e-02,  3.85336787e-02,\n",
              "         2.75302515e-02,  3.22735674e-02,  2.53675061e-02,\n",
              "         3.14198442e-02,  4.57696332e-02,  2.71444366e-02,\n",
              "         3.43856457e-02,  2.46216775e-02,  4.24952910e-02,\n",
              "         3.59842260e-02,  5.73880023e-02,  2.98458456e-02,\n",
              "         9.03965111e-02,  4.33871061e-02,  5.97209133e-02,\n",
              "         6.98031437e-03, -2.08166817e-17,  4.21525475e-01,\n",
              "         1.77047652e-02,  1.74585291e-02,  1.73817511e-02,\n",
              "         8.02569449e-03,  1.65479247e-02,  2.22226994e-02,\n",
              "         2.85377709e-02,  1.68003841e-02,  3.25450458e-03,\n",
              "         1.17062663e-02,  2.31643621e-02,  1.50639821e-02,\n",
              "         7.76160488e-03,  9.90274613e-03,  1.70205070e-02,\n",
              "         1.58260912e-02,  1.06384297e-02,  2.53693564e-02,\n",
              "         3.31403617e-02,  1.61734060e-02,  2.22952019e-02,\n",
              "         3.06242520e-02,  3.84876239e-02,  4.35252160e-02,\n",
              "         3.41285454e-02,  5.60089448e-02,  1.02759588e-02,\n",
              "         7.01172618e-03,  1.38283037e-02,  1.23950844e-02,\n",
              "         9.73495368e-03,  2.53184967e-02,  2.44432343e-02,\n",
              "         2.47479001e-02,  9.50464632e-03,  2.07174460e-02,\n",
              "         2.12233806e-02,  1.72672643e-02,  1.78047041e-02,\n",
              "         2.04030636e-02,  3.49627018e-02,  1.67047023e-02,\n",
              "         2.70785663e-02,  1.80497311e-02,  2.59388709e-02,\n",
              "         2.50256753e-02,  4.03614057e-02,  2.24708456e-02,\n",
              "         6.79961823e-02,  2.63907368e-02,  3.50392018e-02,\n",
              "         4.57230019e-03]])"
            ]
          },
          "metadata": {},
          "execution_count": 44
        }
      ]
    },
    {
      "cell_type": "markdown",
      "source": [
        "####save a model in pickle file"
      ],
      "metadata": {
        "id": "JtZHw41Rb_Ys"
      }
    },
    {
      "cell_type": "code",
      "source": [
        "import pickle"
      ],
      "metadata": {
        "id": "d3SQxynOcFCG"
      },
      "execution_count": null,
      "outputs": []
    },
    {
      "cell_type": "code",
      "source": [
        "pickle.dump(Kmeans,open('kmeans.pkl','wb'))"
      ],
      "metadata": {
        "id": "YeZuta_ycHmK"
      },
      "execution_count": null,
      "outputs": []
    },
    {
      "cell_type": "markdown",
      "source": [
        "####load the model and make prediction"
      ],
      "metadata": {
        "id": "ykQ9PcavdEEs"
      }
    },
    {
      "cell_type": "code",
      "source": [
        "model = pickle.load(open('kmeans.pkl','rb'))"
      ],
      "metadata": {
        "id": "TmsO7eqJdH9G"
      },
      "execution_count": null,
      "outputs": []
    },
    {
      "cell_type": "code",
      "source": [
        "prediction = model.predict(test)"
      ],
      "metadata": {
        "id": "9IK4UhgPdKKE"
      },
      "execution_count": null,
      "outputs": []
    },
    {
      "cell_type": "code",
      "source": [
        "prediction"
      ],
      "metadata": {
        "colab": {
          "base_uri": "https://localhost:8080/"
        },
        "id": "7_NDEC6_d9At",
        "outputId": "7535f705-09d7-46de-c8e9-dd3e87ff9aa8"
      },
      "execution_count": null,
      "outputs": [
        {
          "output_type": "execute_result",
          "data": {
            "text/plain": [
              "array([0, 0, 0, 1, 0, 0, 1, 0, 1, 0, 2, 0, 0, 2, 2, 1, 1, 0, 0, 0, 0, 0,\n",
              "       0, 1, 1, 2, 2, 2, 0, 0, 0, 0, 0, 1, 2, 2, 0, 0, 1, 0, 1, 0, 0, 0,\n",
              "       2, 0, 1, 2, 0, 2, 1, 1, 2, 0, 0, 0, 0, 1, 0, 0, 0, 0, 0, 2, 1, 1,\n",
              "       1, 0, 1, 1, 2, 0, 1, 2, 2, 0, 1, 0, 1, 0, 0, 1, 0, 2, 0, 0, 0, 0,\n",
              "       0, 2, 0, 0, 0, 0, 0, 0, 2, 0, 2, 0, 2, 2, 0, 1, 2, 0, 1, 2, 1, 0,\n",
              "       0, 0, 1, 0, 2, 1, 0, 0, 2, 0, 1, 1, 0, 0, 0, 0, 0, 2, 1, 0, 0, 0,\n",
              "       2, 0, 1, 0, 0, 2, 2, 0, 0, 1, 0, 0, 0, 0, 1, 2, 0, 1, 0, 1, 1, 1,\n",
              "       0, 2, 0, 1, 0, 0, 1, 1, 0], dtype=int32)"
            ]
          },
          "metadata": {},
          "execution_count": 49
        }
      ]
    }
  ]
}